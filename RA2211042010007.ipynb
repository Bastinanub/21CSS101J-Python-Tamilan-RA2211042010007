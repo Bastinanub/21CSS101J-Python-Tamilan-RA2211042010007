{
  "nbformat": 4,
  "nbformat_minor": 0,
  "metadata": {
    "colab": {
      "provenance": [],
      "authorship_tag": "ABX9TyOsQR3Wf/FTOrTEnvdlKVIa",
      "include_colab_link": true
    },
    "kernelspec": {
      "name": "python3",
      "display_name": "Python 3"
    },
    "language_info": {
      "name": "python"
    }
  },
  "cells": [
    {
      "cell_type": "markdown",
      "metadata": {
        "id": "view-in-github",
        "colab_type": "text"
      },
      "source": [
        "<a href=\"https://colab.research.google.com/github/Bastinanub/21CSS101J-Python-Tamilan-RA2211042010007/blob/main/RA2211042010007.ipynb\" target=\"_parent\"><img src=\"https://colab.research.google.com/assets/colab-badge.svg\" alt=\"Open In Colab\"/></a>"
      ]
    },
    {
      "cell_type": "code",
      "execution_count": null,
      "metadata": {
        "colab": {
          "base_uri": "https://localhost:8080/"
        },
        "id": "jCIRE4NcKglY",
        "outputId": "3e5f9d89-2068-4232-e365-e31467089ef8"
      },
      "outputs": [
        {
          "output_type": "stream",
          "name": "stdout",
          "text": [
            "Hi da mapla\n"
          ]
        }
      ],
      "source": [
        "print(\"Hi da mapla\")"
      ]
    },
    {
      "cell_type": "markdown",
      "source": [
        "dispaly text\n"
      ],
      "metadata": {
        "id": "eyz0Zx8mNc7H"
      }
    },
    {
      "cell_type": "code",
      "source": [
        "a = 5\n",
        "b = 10\n",
        "print(a)\n",
        "print(b)"
      ],
      "metadata": {
        "colab": {
          "base_uri": "https://localhost:8080/"
        },
        "id": "ZldVeXfoNsU-",
        "outputId": "2785672e-5bd8-44d5-9a46-ecd37c2726c3"
      },
      "execution_count": 2,
      "outputs": [
        {
          "output_type": "stream",
          "name": "stdout",
          "text": [
            "5\n",
            "10\n"
          ]
        }
      ]
    },
    {
      "cell_type": "markdown",
      "source": [
        "declaring variable"
      ],
      "metadata": {
        "id": "AXiv4ii0RELx"
      }
    },
    {
      "cell_type": "code",
      "source": [
        "a = 5\n",
        "b = 10\n",
        "print(a+b)"
      ],
      "metadata": {
        "id": "kCXV0ikhRV3d",
        "outputId": "d8e615b4-045e-4dc6-a134-fe2fdbd7dbba",
        "colab": {
          "base_uri": "https://localhost:8080/"
        }
      },
      "execution_count": 3,
      "outputs": [
        {
          "output_type": "stream",
          "name": "stdout",
          "text": [
            "15\n"
          ]
        }
      ]
    },
    {
      "cell_type": "markdown",
      "source": [
        "addition"
      ],
      "metadata": {
        "id": "fJfK_IfARln2"
      }
    },
    {
      "cell_type": "code",
      "source": [
        "a,b = 5,10\n",
        "print(b-a)"
      ],
      "metadata": {
        "id": "In5I4FB3Rqat",
        "outputId": "1dcb7f68-59ba-426d-f662-46d256a4dc71",
        "colab": {
          "base_uri": "https://localhost:8080/"
        }
      },
      "execution_count": 6,
      "outputs": [
        {
          "output_type": "stream",
          "name": "stdout",
          "text": [
            "5\n"
          ]
        }
      ]
    },
    {
      "cell_type": "markdown",
      "source": [
        "subtraction"
      ],
      "metadata": {
        "id": "VdR1MRPSSDMU"
      }
    },
    {
      "cell_type": "code",
      "source": [
        "a,b = 5,10\n",
        "print(a*b)"
      ],
      "metadata": {
        "id": "gCnxyEjoSMNA",
        "outputId": "1b6e7c4a-9f12-499c-e066-0c55b2122fd8",
        "colab": {
          "base_uri": "https://localhost:8080/"
        }
      },
      "execution_count": 7,
      "outputs": [
        {
          "output_type": "stream",
          "name": "stdout",
          "text": [
            "50\n"
          ]
        }
      ]
    },
    {
      "cell_type": "markdown",
      "source": [
        "multiplication"
      ],
      "metadata": {
        "id": "d5jU8t_AS2N2"
      }
    },
    {
      "cell_type": "code",
      "source": [
        "a,b = 10,5\n",
        "print(a/b)"
      ],
      "metadata": {
        "id": "vRVMYeOyTFiH",
        "outputId": "11185420-1df9-439b-e370-4c5257abd1ea",
        "colab": {
          "base_uri": "https://localhost:8080/"
        }
      },
      "execution_count": 8,
      "outputs": [
        {
          "output_type": "stream",
          "name": "stdout",
          "text": [
            "2.0\n"
          ]
        }
      ]
    },
    {
      "cell_type": "markdown",
      "source": [
        "division"
      ],
      "metadata": {
        "id": "qaR8zGeETgWt"
      }
    },
    {
      "cell_type": "code",
      "source": [
        "a,b = 10,5\n",
        "print(a%b)"
      ],
      "metadata": {
        "id": "POuQuuhfTkoL",
        "outputId": "b15f5eed-2117-4496-9e04-0161780dc40d",
        "colab": {
          "base_uri": "https://localhost:8080/"
        }
      },
      "execution_count": 9,
      "outputs": [
        {
          "output_type": "stream",
          "name": "stdout",
          "text": [
            "0\n"
          ]
        }
      ]
    },
    {
      "cell_type": "markdown",
      "source": [
        "remainder"
      ],
      "metadata": {
        "id": "F3nSU_tsUAEz"
      }
    },
    {
      "cell_type": "code",
      "source": [
        "a,b = 100,7\n",
        "print(a>b)"
      ],
      "metadata": {
        "id": "zY1NSR0TUCCu",
        "outputId": "f1bb6683-be7b-4ca3-d249-08a0e0148011",
        "colab": {
          "base_uri": "https://localhost:8080/"
        }
      },
      "execution_count": 10,
      "outputs": [
        {
          "output_type": "stream",
          "name": "stdout",
          "text": [
            "True\n"
          ]
        }
      ]
    },
    {
      "cell_type": "markdown",
      "source": [
        "condition greater"
      ],
      "metadata": {
        "id": "qVhbiQkgUdeC"
      }
    },
    {
      "cell_type": "code",
      "source": [
        "a,b = 100,7\n",
        "print(a<b)"
      ],
      "metadata": {
        "id": "SHyEiTT3Uhie",
        "outputId": "b17f8d7d-9225-47f3-edb1-1e1d735495ab",
        "colab": {
          "base_uri": "https://localhost:8080/"
        }
      },
      "execution_count": 11,
      "outputs": [
        {
          "output_type": "stream",
          "name": "stdout",
          "text": [
            "False\n"
          ]
        }
      ]
    },
    {
      "cell_type": "markdown",
      "source": [
        "condition smaller"
      ],
      "metadata": {
        "id": "SGxbXu1iUmag"
      }
    },
    {
      "cell_type": "code",
      "source": [
        "a,b = 100,7\n",
        "print(a==b)"
      ],
      "metadata": {
        "id": "hvfJXQexUo28",
        "outputId": "98d7e6f1-f7f9-450a-8233-b8ac638b9936",
        "colab": {
          "base_uri": "https://localhost:8080/"
        }
      },
      "execution_count": 13,
      "outputs": [
        {
          "output_type": "stream",
          "name": "stdout",
          "text": [
            "False\n"
          ]
        }
      ]
    },
    {
      "cell_type": "markdown",
      "source": [
        "equvalent operator"
      ],
      "metadata": {
        "id": "yriTHMVwU1_K"
      }
    },
    {
      "cell_type": "code",
      "source": [],
      "metadata": {
        "id": "O1xLtFAFVVB4"
      },
      "execution_count": null,
      "outputs": []
    }
  ]
}